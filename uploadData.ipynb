{
 "metadata": {
  "name": "",
  "signature": "sha256:854b1c8220a9b30aa2937aa9523c1850ad9173f89660159e650e8612eabeb65a"
 },
 "nbformat": 3,
 "nbformat_minor": 0,
 "worksheets": [
  {
   "cells": [
    {
     "cell_type": "heading",
     "level": 1,
     "metadata": {},
     "source": [
      "Ce script a pour but d'uploader les donnees sur le Blob Storage"
     ]
    },
    {
     "cell_type": "code",
     "collapsed": false,
     "input": [
      "import pyensae\n",
      "import pyquickhelper\n",
      "import pandas, sqlite3, os\n",
      "path = \"data/\"\n",
      "pathTrain = path+\"training_set/\"\n",
      "pathWD = \"\\\\\\\\paradis\\\\eleves\\\\BDonnot\\\\Bureau\\\\DonneesMassives\\\\\"\n",
      "#os.chdir(pathWD)"
     ],
     "language": "python",
     "metadata": {},
     "outputs": [],
     "prompt_number": 1
    },
    {
     "cell_type": "markdown",
     "metadata": {},
     "source": [
      "On cr\u00e9\u00e9 un unique csv qui contient toutes les donn\u00e9es :"
     ]
    },
    {
     "cell_type": "code",
     "collapsed": false,
     "input": [
      "with open(path+\"allNetflixData.csv\",\"w\") as fOut :\n",
      "    #fOut.write(\"movie,user,rating,date\"+'\\r\\n')\n",
      "    for fname in os.listdir(pathTrain) :\n",
      "        with open(pathTrain+fname,\"r\") as fIn :\n",
      "            idMovie = fIn.readline().replace('\\r','').replace(\"\\n\",\"\").replace(\":\",\"\")\n",
      "            for line in fIn :\n",
      "                fOut.write(idMovie+\",\"+line)"
     ],
     "language": "python",
     "metadata": {},
     "outputs": [],
     "prompt_number": 2
    },
    {
     "cell_type": "markdown",
     "metadata": {},
     "source": [
      "On se connect au blob storage (le mot de passe est stock\u00e9 localement dans un fichier password, ignor\u00e9 par git)"
     ]
    },
    {
     "cell_type": "code",
     "collapsed": false,
     "input": [
      "params={\"blob_storage\":\"hdblobstorage\", \"password1\":\"\", \"hadoop_server\":\"clusterensaeazure2\", \"password2\":\"\", \"username\":\"DonnotLaugel\"}\n",
      "with open(\"password\",\"r\") as fPassWord :\n",
      "    for line in fPassWord :\n",
      "        li = line.split(\":\")\n",
      "        if li[0] == params[\"blob_storage\"] :\n",
      "            params[\"password1\"] = li[1].replace('\\n','').replace('\\r','')\n",
      "        elif li[0] == params[\"hadoop_server\"] :\n",
      "            params[\"password2\"] = li[1].replace('\\n','').replace('\\r','')\n",
      "blobstorage = params[\"blob_storage\"]\n",
      "blobpassword = params[\"password1\"]\n",
      "hadoop_server = params[\"hadoop_server\"]\n",
      "hadoop_password = params[\"password2\"]\n",
      "username = params[\"username\"]\n",
      "client, bs =  %hd_open\n",
      "client, bs,client.account_name,username"
     ],
     "language": "python",
     "metadata": {},
     "outputs": [
      {
       "metadata": {},
       "output_type": "pyout",
       "prompt_number": 3,
       "text": [
        "(<pyensae.remote.azure_connection.AzureClient at 0x7f13e04ac860>,\n",
        " <azure.storage.blobservice.BlobService at 0x7f13e04ac6d8>,\n",
        " 'hdblobstorage',\n",
        " 'DonnotLaugel')"
       ]
      }
     ],
     "prompt_number": 3
    },
    {
     "cell_type": "heading",
     "level": 6,
     "metadata": {},
     "source": [
      "On ouvre la connexion aux donn\u00e9es :"
     ]
    },
    {
     "cell_type": "code",
     "collapsed": false,
     "input": [
      "#cl, bs = %blob_open\n",
      "#cl, bs"
     ],
     "language": "python",
     "metadata": {},
     "outputs": [
      {
       "metadata": {},
       "output_type": "pyout",
       "prompt_number": 3,
       "text": [
        "(<pyensae.remote.azure_connection.AzureClient at 0x8c8bd30>,\n",
        " <azure.storage.blobservice.BlobService at 0x8c8bd68>)"
       ]
      }
     ],
     "prompt_number": 3
    },
    {
     "cell_type": "markdown",
     "metadata": {},
     "source": [
      "On regarde ce que le cluster contient :"
     ]
    },
    {
     "cell_type": "code",
     "collapsed": false,
     "input": [
      "l = %blob_containers\n",
      "l\n",
      "%blob_ls /$PSEUDO/DonnotLaugel"
     ],
     "language": "python",
     "metadata": {},
     "outputs": [
      {
       "html": [
        "<div style=\"max-height:1000px;max-width:1500px;overflow:auto;\">\n",
        "<table border=\"1\" class=\"dataframe\">\n",
        "  <thead>\n",
        "    <tr style=\"text-align: right;\">\n",
        "      <th></th>\n",
        "      <th>name</th>\n",
        "      <th>url</th>\n",
        "    </tr>\n",
        "  </thead>\n",
        "  <tbody>\n",
        "  </tbody>\n",
        "</table>\n",
        "</div>"
       ],
       "metadata": {},
       "output_type": "pyout",
       "prompt_number": 4,
       "text": [
        "Empty DataFrame\n",
        "Columns: [name, url]\n",
        "Index: []"
       ]
      }
     ],
     "prompt_number": 4
    },
    {
     "cell_type": "markdown",
     "metadata": {},
     "source": [
      "On upload les donnees sur le blobStorage"
     ]
    },
    {
     "cell_type": "code",
     "collapsed": false,
     "input": [
      "%blob_up data/allNetflixData.csv  /$PSEUDO/DonnotLaugel/allNetflixData.csv\n",
      "print(\"upload finised\")"
     ],
     "language": "python",
     "metadata": {},
     "outputs": [
      {
       "output_type": "stream",
       "stream": "stdout",
       "text": [
        "upload finised\n"
       ]
      }
     ],
     "prompt_number": 5
    },
    {
     "cell_type": "markdown",
     "metadata": {},
     "source": [
      "On peut v\u00e9rifier que le fichier est bien pr\u00e9sent sur le cluster"
     ]
    },
    {
     "cell_type": "code",
     "collapsed": false,
     "input": [
      "%blob_ls /$PSEUDO/DonnotLaugel"
     ],
     "language": "python",
     "metadata": {},
     "outputs": [
      {
       "html": [
        "<div style=\"max-height:1000px;max-width:1500px;overflow:auto;\">\n",
        "<table border=\"1\" class=\"dataframe\">\n",
        "  <thead>\n",
        "    <tr style=\"text-align: right;\">\n",
        "      <th></th>\n",
        "      <th>name</th>\n",
        "      <th>last_modified</th>\n",
        "      <th>content_type</th>\n",
        "      <th>content_length</th>\n",
        "      <th>blob_type</th>\n",
        "    </tr>\n",
        "  </thead>\n",
        "  <tbody>\n",
        "    <tr>\n",
        "      <th>0</th>\n",
        "      <td> DonnotLaugel/DonnotLaugel/allNetflixData.csv</td>\n",
        "      <td> Mon, 02 Feb 2015 16:59:38 GMT</td>\n",
        "      <td> application/octet-stream</td>\n",
        "      <td> 2610540665</td>\n",
        "      <td> BlockBlob</td>\n",
        "    </tr>\n",
        "  </tbody>\n",
        "</table>\n",
        "</div>"
       ],
       "metadata": {},
       "output_type": "pyout",
       "prompt_number": 6,
       "text": [
        "                                           name  \\\n",
        "0  DonnotLaugel/DonnotLaugel/allNetflixData.csv   \n",
        "\n",
        "                   last_modified              content_type  content_length  \\\n",
        "0  Mon, 02 Feb 2015 16:59:38 GMT  application/octet-stream      2610540665   \n",
        "\n",
        "   blob_type  \n",
        "0  BlockBlob  "
       ]
      }
     ],
     "prompt_number": 6
    },
    {
     "cell_type": "markdown",
     "metadata": {},
     "source": [
      "On ferme la connexion"
     ]
    },
    {
     "cell_type": "code",
     "collapsed": false,
     "input": [
      "%blob_close"
     ],
     "language": "python",
     "metadata": {},
     "outputs": [
      {
       "metadata": {},
       "output_type": "pyout",
       "prompt_number": 7,
       "text": [
        "True"
       ]
      }
     ],
     "prompt_number": 7
    }
   ],
   "metadata": {}
  }
 ]
}