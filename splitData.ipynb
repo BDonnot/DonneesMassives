{
 "metadata": {
  "name": "",
  "signature": "sha256:8a2397353563ff7f49dba89cf17832e217ecb422b49821ee22e86c3b9b894a25"
 },
 "nbformat": 3,
 "nbformat_minor": 0,
 "worksheets": [
  {
   "cells": [
    {
     "cell_type": "heading",
     "level": 1,
     "metadata": {},
     "source": [
      "On divise le data set entre train et test"
     ]
    },
    {
     "cell_type": "markdown",
     "metadata": {},
     "source": [
      "On charge les libraries voulues :"
     ]
    },
    {
     "cell_type": "code",
     "collapsed": false,
     "input": [
      "import pyensae\n",
      "import pyquickhelper\n",
      "import pandas, sqlite3, os\n",
      "path = \"data/\"\n",
      "pathTrain = path+\"training_set/\"\n",
      "pathWD = \"\\\\\\\\paradis\\\\eleves\\\\BDonnot\\\\Bureau\\\\DonneesMassives\\\\\"\n",
      "#pathWD = \"\\\\Documents\\DonneesMassives\\\\\"\n",
      "#os.chdir(pathWD)"
     ],
     "language": "python",
     "metadata": {},
     "outputs": [],
     "prompt_number": 3
    },
    {
     "cell_type": "markdown",
     "metadata": {},
     "source": [
      "On se connecte au serveur"
     ]
    },
    {
     "cell_type": "code",
     "collapsed": false,
     "input": [
      "params={\"blob_storage\":\"hdblobstorage\", \"password1\":\"\", \"hadoop_server\":\"clusterensaeazure1\", \"password2\":\"\", \"username\":\"DonnotLaugel\"}\n",
      "with open(\"password\",\"r\") as fPassWord :\n",
      "    for line in fPassWord :\n",
      "        li = line.split(\":\")\n",
      "        if li[0] == params[\"blob_storage\"] :\n",
      "            params[\"password1\"] = li[1].replace('\\n','').replace('\\r','')\n",
      "        elif li[0] == params[\"hadoop_server\"] :\n",
      "            params[\"password2\"] = li[1].replace('\\n','').replace('\\r','')\n",
      "blobstorage = params[\"blob_storage\"]\n",
      "blobpassword = params[\"password1\"]\n",
      "hadoop_server = params[\"hadoop_server\"]\n",
      "hadoop_password = params[\"password2\"]\n",
      "username = params[\"username\"]\n",
      "client, bs =  %hd_open\n",
      "client, bs,client.account_name,username\n",
      "#pyquickhelper.open_html_form(params=params,title=\"server + hadoop + credentials\", key_save=\"blobhp\")"
     ],
     "language": "python",
     "metadata": {},
     "outputs": [
      {
       "metadata": {},
       "output_type": "pyout",
       "prompt_number": 4,
       "text": [
        "(<pyensae.remote.azure_connection.AzureClient at 0x7ff9c75b7160>,\n",
        " <azure.storage.blobservice.BlobService at 0x7ff9c75b7048>,\n",
        " 'hdblobstorage',\n",
        " 'DonnotLaugel')"
       ]
      }
     ],
	"prompt_number": 4
    },
    {
     "cell_type": "markdown",
     "metadata": {},
     "source": [
      "On v\u00e9rifie que les pr\u00e9c\u00e9dents fichiers sont bien l\u00e0"
     ]
    },
    {
     "cell_type": "code",
     "collapsed": false,
     "input": [
      "l = %blob_containers\n",
      "l\n",
      "%blob_ls /$PSEUDO/DonnotLaugel"
     ],
     "language": "python",
     "metadata": {},
     "outputs": [
      {
       "ename": "WindowsAzureError",
       "evalue": "Unknown error (Server failed to authenticate the request. Make sure the value of Authorization header is formed correctly including the signature.)\n\ufeff<?xml version=\"1.0\" encoding=\"utf-8\"?><Error><Code>AuthenticationFailed</Code><Message>Server failed to authenticate the request. Make sure the value of Authorization header is formed correctly including the signature.\nRequestId:484bcd88-0001-004d-6af1-ca42a8000000\nTime:2015-02-02T11:15:56.0171671Z</Message><AuthenticationErrorDetail>The Date header in the request is incorrect.</AuthenticationErrorDetail></Error>",
       "output_type": "pyerr",
       "traceback": [
        "\u001b[1;31m---------------------------------------------------------------------------\u001b[0m\n\u001b[1;31mWindowsAzureError\u001b[0m                         Traceback (most recent call last)",
        "\u001b[1;32m<ipython-input-5-552dde233ec3>\u001b[0m in \u001b[0;36m<module>\u001b[1;34m()\u001b[0m\n\u001b[1;32m----> 1\u001b[1;33m \u001b[0ml\u001b[0m \u001b[1;33m=\u001b[0m \u001b[0mget_ipython\u001b[0m\u001b[1;33m(\u001b[0m\u001b[1;33m)\u001b[0m\u001b[1;33m.\u001b[0m\u001b[0mmagic\u001b[0m\u001b[1;33m(\u001b[0m\u001b[1;34m'blob_containers'\u001b[0m\u001b[1;33m)\u001b[0m\u001b[1;33m\u001b[0m\u001b[0m\n\u001b[0m\u001b[0;32m      2\u001b[0m \u001b[0ml\u001b[0m\u001b[1;33m\u001b[0m\u001b[0m\n\u001b[0;32m      3\u001b[0m \u001b[0mget_ipython\u001b[0m\u001b[1;33m(\u001b[0m\u001b[1;33m)\u001b[0m\u001b[1;33m.\u001b[0m\u001b[0mmagic\u001b[0m\u001b[1;33m(\u001b[0m\u001b[1;34m'blob_ls /any/DonnotLaugel'\u001b[0m\u001b[1;33m)\u001b[0m\u001b[1;33m\u001b[0m\u001b[0m\n",
        "\u001b[1;32m/usr/local/lib/python3.4/dist-packages/IPython/core/interactiveshell.py\u001b[0m in \u001b[0;36mmagic\u001b[1;34m(self, arg_s)\u001b[0m\n\u001b[0;32m   2203\u001b[0m         \u001b[0mmagic_name\u001b[0m\u001b[1;33m,\u001b[0m \u001b[0m_\u001b[0m\u001b[1;33m,\u001b[0m \u001b[0mmagic_arg_s\u001b[0m \u001b[1;33m=\u001b[0m \u001b[0marg_s\u001b[0m\u001b[1;33m.\u001b[0m\u001b[0mpartition\u001b[0m\u001b[1;33m(\u001b[0m\u001b[1;34m' '\u001b[0m\u001b[1;33m)\u001b[0m\u001b[1;33m\u001b[0m\u001b[0m\n\u001b[0;32m   2204\u001b[0m         \u001b[0mmagic_name\u001b[0m \u001b[1;33m=\u001b[0m \u001b[0mmagic_name\u001b[0m\u001b[1;33m.\u001b[0m\u001b[0mlstrip\u001b[0m\u001b[1;33m(\u001b[0m\u001b[0mprefilter\u001b[0m\u001b[1;33m.\u001b[0m\u001b[0mESC_MAGIC\u001b[0m\u001b[1;33m)\u001b[0m\u001b[1;33m\u001b[0m\u001b[0m\n\u001b[1;32m-> 2205\u001b[1;33m         \u001b[1;32mreturn\u001b[0m \u001b[0mself\u001b[0m\u001b[1;33m.\u001b[0m\u001b[0mrun_line_magic\u001b[0m\u001b[1;33m(\u001b[0m\u001b[0mmagic_name\u001b[0m\u001b[1;33m,\u001b[0m \u001b[0mmagic_arg_s\u001b[0m\u001b[1;33m)\u001b[0m\u001b[1;33m\u001b[0m\u001b[0m\n\u001b[0m\u001b[0;32m   2206\u001b[0m \u001b[1;33m\u001b[0m\u001b[0m\n\u001b[0;32m   2207\u001b[0m     \u001b[1;31m#-------------------------------------------------------------------------\u001b[0m\u001b[1;33m\u001b[0m\u001b[1;33m\u001b[0m\u001b[0m\n",
        "\u001b[1;32m/usr/local/lib/python3.4/dist-packages/IPython/core/interactiveshell.py\u001b[0m in \u001b[0;36mrun_line_magic\u001b[1;34m(self, magic_name, line)\u001b[0m\n\u001b[0;32m   2124\u001b[0m                 \u001b[0mkwargs\u001b[0m\u001b[1;33m[\u001b[0m\u001b[1;34m'local_ns'\u001b[0m\u001b[1;33m]\u001b[0m \u001b[1;33m=\u001b[0m \u001b[0msys\u001b[0m\u001b[1;33m.\u001b[0m\u001b[0m_getframe\u001b[0m\u001b[1;33m(\u001b[0m\u001b[0mstack_depth\u001b[0m\u001b[1;33m)\u001b[0m\u001b[1;33m.\u001b[0m\u001b[0mf_locals\u001b[0m\u001b[1;33m\u001b[0m\u001b[0m\n\u001b[0;32m   2125\u001b[0m             \u001b[1;32mwith\u001b[0m \u001b[0mself\u001b[0m\u001b[1;33m.\u001b[0m\u001b[0mbuiltin_trap\u001b[0m\u001b[1;33m:\u001b[0m\u001b[1;33m\u001b[0m\u001b[0m\n\u001b[1;32m-> 2126\u001b[1;33m                 \u001b[0mresult\u001b[0m \u001b[1;33m=\u001b[0m \u001b[0mfn\u001b[0m\u001b[1;33m(\u001b[0m\u001b[1;33m*\u001b[0m\u001b[0margs\u001b[0m\u001b[1;33m,\u001b[0m\u001b[1;33m**\u001b[0m\u001b[0mkwargs\u001b[0m\u001b[1;33m)\u001b[0m\u001b[1;33m\u001b[0m\u001b[0m\n\u001b[0m\u001b[0;32m   2127\u001b[0m             \u001b[1;32mreturn\u001b[0m \u001b[0mresult\u001b[0m\u001b[1;33m\u001b[0m\u001b[0m\n\u001b[0;32m   2128\u001b[0m \u001b[1;33m\u001b[0m\u001b[0m\n",
        "\u001b[1;32m/usr/local/lib/python3.4/dist-packages/pyensae/remote/magic_azure.py\u001b[0m in \u001b[0;36mblob_containers\u001b[1;34m(self, line)\u001b[0m\n",
        "\u001b[1;32m/usr/local/lib/python3.4/dist-packages/IPython/core/magic.py\u001b[0m in \u001b[0;36m<lambda>\u001b[1;34m(f, *a, **k)\u001b[0m\n\u001b[0;32m    191\u001b[0m     \u001b[1;31m# but it's overkill for just that one bit of state.\u001b[0m\u001b[1;33m\u001b[0m\u001b[1;33m\u001b[0m\u001b[0m\n\u001b[0;32m    192\u001b[0m     \u001b[1;32mdef\u001b[0m \u001b[0mmagic_deco\u001b[0m\u001b[1;33m(\u001b[0m\u001b[0marg\u001b[0m\u001b[1;33m)\u001b[0m\u001b[1;33m:\u001b[0m\u001b[1;33m\u001b[0m\u001b[0m\n\u001b[1;32m--> 193\u001b[1;33m         \u001b[0mcall\u001b[0m \u001b[1;33m=\u001b[0m \u001b[1;32mlambda\u001b[0m \u001b[0mf\u001b[0m\u001b[1;33m,\u001b[0m \u001b[1;33m*\u001b[0m\u001b[0ma\u001b[0m\u001b[1;33m,\u001b[0m \u001b[1;33m**\u001b[0m\u001b[0mk\u001b[0m\u001b[1;33m:\u001b[0m \u001b[0mf\u001b[0m\u001b[1;33m(\u001b[0m\u001b[1;33m*\u001b[0m\u001b[0ma\u001b[0m\u001b[1;33m,\u001b[0m \u001b[1;33m**\u001b[0m\u001b[0mk\u001b[0m\u001b[1;33m)\u001b[0m\u001b[1;33m\u001b[0m\u001b[0m\n\u001b[0m\u001b[0;32m    194\u001b[0m \u001b[1;33m\u001b[0m\u001b[0m\n\u001b[0;32m    195\u001b[0m         \u001b[1;32mif\u001b[0m \u001b[0mcallable\u001b[0m\u001b[1;33m(\u001b[0m\u001b[0marg\u001b[0m\u001b[1;33m)\u001b[0m\u001b[1;33m:\u001b[0m\u001b[1;33m\u001b[0m\u001b[0m\n",
        "\u001b[1;32m/usr/local/lib/python3.4/dist-packages/pyensae/remote/magic_azure.py\u001b[0m in \u001b[0;36mblob_containers\u001b[1;34m(self, line)\u001b[0m\n\u001b[0;32m    180\u001b[0m         \"\"\"\n\u001b[0;32m    181\u001b[0m         \u001b[0mcl\u001b[0m\u001b[1;33m,\u001b[0m \u001b[0mbs\u001b[0m \u001b[1;33m=\u001b[0m \u001b[0mself\u001b[0m\u001b[1;33m.\u001b[0m\u001b[0mget_blob_connection\u001b[0m\u001b[1;33m(\u001b[0m\u001b[1;33m)\u001b[0m\u001b[1;33m\u001b[0m\u001b[0m\n\u001b[1;32m--> 182\u001b[1;33m         \u001b[0mres\u001b[0m \u001b[1;33m=\u001b[0m \u001b[0mbs\u001b[0m\u001b[1;33m.\u001b[0m\u001b[0mlist_containers\u001b[0m\u001b[1;33m(\u001b[0m\u001b[1;33m)\u001b[0m\u001b[1;33m\u001b[0m\u001b[0m\n\u001b[0m\u001b[0;32m    183\u001b[0m         \u001b[1;32mreturn\u001b[0m \u001b[1;33m[\u001b[0m \u001b[0mr\u001b[0m\u001b[1;33m.\u001b[0m\u001b[0mname\u001b[0m \u001b[1;32mfor\u001b[0m \u001b[0mr\u001b[0m \u001b[1;32min\u001b[0m \u001b[0mres\u001b[0m \u001b[1;33m]\u001b[0m\u001b[1;33m\u001b[0m\u001b[0m\n\u001b[0;32m    184\u001b[0m \u001b[1;33m\u001b[0m\u001b[0m\n",
        "\u001b[1;32m/usr/local/lib/python3.4/dist-packages/azure/storage/blobservice.py\u001b[0m in \u001b[0;36mlist_containers\u001b[1;34m(self, prefix, marker, maxresults, include)\u001b[0m\n\u001b[0;32m    150\u001b[0m         request.headers = _update_storage_blob_header(\n\u001b[0;32m    151\u001b[0m             request, self.account_name, self.account_key)\n\u001b[1;32m--> 152\u001b[1;33m         \u001b[0mresponse\u001b[0m \u001b[1;33m=\u001b[0m \u001b[0mself\u001b[0m\u001b[1;33m.\u001b[0m\u001b[0m_perform_request\u001b[0m\u001b[1;33m(\u001b[0m\u001b[0mrequest\u001b[0m\u001b[1;33m)\u001b[0m\u001b[1;33m\u001b[0m\u001b[0m\n\u001b[0m\u001b[0;32m    153\u001b[0m \u001b[1;33m\u001b[0m\u001b[0m\n\u001b[0;32m    154\u001b[0m         return _parse_enum_results_list(response,\n",
        "\u001b[1;32m/usr/local/lib/python3.4/dist-packages/azure/storage/storageclient.py\u001b[0m in \u001b[0;36m_perform_request\u001b[1;34m(self, request, text_encoding)\u001b[0m\n\u001b[0;32m    148\u001b[0m \u001b[1;33m\u001b[0m\u001b[0m\n\u001b[0;32m    149\u001b[0m         \u001b[1;32mexcept\u001b[0m \u001b[0mHTTPError\u001b[0m \u001b[1;32mas\u001b[0m \u001b[0mex\u001b[0m\u001b[1;33m:\u001b[0m\u001b[1;33m\u001b[0m\u001b[0m\n\u001b[1;32m--> 150\u001b[1;33m             \u001b[0m_storage_error_handler\u001b[0m\u001b[1;33m(\u001b[0m\u001b[0mex\u001b[0m\u001b[1;33m)\u001b[0m\u001b[1;33m\u001b[0m\u001b[0m\n\u001b[0m\u001b[0;32m    151\u001b[0m \u001b[1;33m\u001b[0m\u001b[0m\n\u001b[0;32m    152\u001b[0m         \u001b[1;32mreturn\u001b[0m \u001b[0mresp\u001b[0m\u001b[1;33m\u001b[0m\u001b[0m\n",
        "\u001b[1;32m/usr/local/lib/python3.4/dist-packages/azure/storage/__init__.py\u001b[0m in \u001b[0;36m_storage_error_handler\u001b[1;34m(http_error)\u001b[0m\n\u001b[0;32m    887\u001b[0m \u001b[1;32mdef\u001b[0m \u001b[0m_storage_error_handler\u001b[0m\u001b[1;33m(\u001b[0m\u001b[0mhttp_error\u001b[0m\u001b[1;33m)\u001b[0m\u001b[1;33m:\u001b[0m\u001b[1;33m\u001b[0m\u001b[0m\n\u001b[0;32m    888\u001b[0m     \u001b[1;34m''' Simple error handler for storage service. '''\u001b[0m\u001b[1;33m\u001b[0m\u001b[0m\n\u001b[1;32m--> 889\u001b[1;33m     \u001b[1;32mreturn\u001b[0m \u001b[0m_general_error_handler\u001b[0m\u001b[1;33m(\u001b[0m\u001b[0mhttp_error\u001b[0m\u001b[1;33m)\u001b[0m\u001b[1;33m\u001b[0m\u001b[0m\n\u001b[0m\u001b[0;32m    890\u001b[0m \u001b[1;33m\u001b[0m\u001b[0m\n\u001b[0;32m    891\u001b[0m \u001b[1;31m# make these available just from storage.\u001b[0m\u001b[1;33m\u001b[0m\u001b[1;33m\u001b[0m\u001b[0m\n",
        "\u001b[1;32m/usr/local/lib/python3.4/dist-packages/azure/__init__.py\u001b[0m in \u001b[0;36m_general_error_handler\u001b[1;34m(http_error)\u001b[0m\n\u001b[0;32m    927\u001b[0m             raise WindowsAzureError(\n\u001b[0;32m    928\u001b[0m                 \u001b[0m_ERROR_UNKNOWN\u001b[0m\u001b[1;33m.\u001b[0m\u001b[0mformat\u001b[0m\u001b[1;33m(\u001b[0m\u001b[0mstr\u001b[0m\u001b[1;33m(\u001b[0m\u001b[0mhttp_error\u001b[0m\u001b[1;33m)\u001b[0m\u001b[1;33m)\u001b[0m \u001b[1;33m+\u001b[0m \u001b[1;34m'\\n'\u001b[0m \u001b[1;33m+\u001b[0m\u001b[0;31m \u001b[0m\u001b[0;31m\\\u001b[0m\u001b[1;33m\u001b[0m\u001b[0m\n\u001b[1;32m--> 929\u001b[1;33m                     http_error.respbody.decode('utf-8'))\n\u001b[0m\u001b[0;32m    930\u001b[0m         \u001b[1;32melse\u001b[0m\u001b[1;33m:\u001b[0m\u001b[1;33m\u001b[0m\u001b[0m\n\u001b[0;32m    931\u001b[0m             \u001b[1;32mraise\u001b[0m \u001b[0mWindowsAzureError\u001b[0m\u001b[1;33m(\u001b[0m\u001b[0m_ERROR_UNKNOWN\u001b[0m\u001b[1;33m.\u001b[0m\u001b[0mformat\u001b[0m\u001b[1;33m(\u001b[0m\u001b[0mstr\u001b[0m\u001b[1;33m(\u001b[0m\u001b[0mhttp_error\u001b[0m\u001b[1;33m)\u001b[0m\u001b[1;33m)\u001b[0m\u001b[1;33m)\u001b[0m\u001b[1;33m\u001b[0m\u001b[0m\n",
        "\u001b[1;31mWindowsAzureError\u001b[0m: Unknown error (Server failed to authenticate the request. Make sure the value of Authorization header is formed correctly including the signature.)\n\ufeff<?xml version=\"1.0\" encoding=\"utf-8\"?><Error><Code>AuthenticationFailed</Code><Message>Server failed to authenticate the request. Make sure the value of Authorization header is formed correctly including the signature.\nRequestId:484bcd88-0001-004d-6af1-ca42a8000000\nTime:2015-02-02T11:15:56.0171671Z</Message><AuthenticationErrorDetail>The Date header in the request is incorrect.</AuthenticationErrorDetail></Error>"
       ]
      }
     ],
     "prompt_number": 5
    },
    {
     "cell_type": "code",
     "collapsed": false,
     "input": [
      "client.pig_submit(bs, client.account_name, 'convertDate.pig')"
     ],
     "language": "python",
     "metadata": {},
     "outputs": [
      {
       "ename": "AzureException",
       "evalue": "STATUS: 403, JSON: Expecting value: line 1 column 1 (char 0)\n<Response [403]>\nunable to submit job: convertDate.pig",
       "output_type": "pyerr",
       "traceback": [
        "\u001b[1;31m---------------------------------------------------------------------------\u001b[0m\n\u001b[1;31mAzureException\u001b[0m                            Traceback (most recent call last)",
        "\u001b[1;32m<ipython-input-13-c2073b9a5a57>\u001b[0m in \u001b[0;36m<module>\u001b[1;34m()\u001b[0m\n\u001b[1;32m----> 1\u001b[1;33m \u001b[0mclient\u001b[0m\u001b[1;33m.\u001b[0m\u001b[0mpig_submit\u001b[0m\u001b[1;33m(\u001b[0m\u001b[0mbs\u001b[0m\u001b[1;33m,\u001b[0m \u001b[0mclient\u001b[0m\u001b[1;33m.\u001b[0m\u001b[0maccount_name\u001b[0m\u001b[1;33m,\u001b[0m \u001b[1;34m'convertDate.pig'\u001b[0m\u001b[1;33m)\u001b[0m\u001b[1;33m\u001b[0m\u001b[0m\n\u001b[0m",
        "\u001b[1;32m/usr/local/lib/python3.4/dist-packages/pyensae/remote/azure_connection.py\u001b[0m in \u001b[0;36mpig_submit\u001b[1;34m(self, blob_service, container_name, pig_file, dependencies, status_dir, stop_on_failure, params)\u001b[0m\n\u001b[0;32m    637\u001b[0m \u001b[1;33m\u001b[0m\u001b[0m\n\u001b[0;32m    638\u001b[0m         \u001b[1;32mif\u001b[0m \u001b[0mr\u001b[0m\u001b[1;33m.\u001b[0m\u001b[0mstatus_code\u001b[0m \u001b[1;33m!=\u001b[0m \u001b[1;36m200\u001b[0m\u001b[1;33m:\u001b[0m\u001b[1;33m\u001b[0m\u001b[0m\n\u001b[1;32m--> 639\u001b[1;33m             \u001b[1;32mraise\u001b[0m \u001b[0mAzureException\u001b[0m\u001b[1;33m(\u001b[0m\u001b[1;34m\"unable to submit job: \"\u001b[0m \u001b[1;33m+\u001b[0m \u001b[0mpig_file\u001b[0m\u001b[1;33m,\u001b[0m \u001b[0mr\u001b[0m\u001b[1;33m)\u001b[0m\u001b[1;33m\u001b[0m\u001b[0m\n\u001b[0m\u001b[0;32m    640\u001b[0m         \u001b[1;32mreturn\u001b[0m \u001b[0mr\u001b[0m\u001b[1;33m.\u001b[0m\u001b[0mjson\u001b[0m\u001b[1;33m(\u001b[0m\u001b[1;33m)\u001b[0m\u001b[1;33m\u001b[0m\u001b[0m\n\u001b[0;32m    641\u001b[0m \u001b[1;33m\u001b[0m\u001b[0m\n",
        "\u001b[1;31mAzureException\u001b[0m: STATUS: 403, JSON: Expecting value: line 1 column 1 (char 0)\n<Response [403]>\nunable to submit job: convertDate.pig"
       ]
      }
     ],
     "prompt_number": 13
    },
    {
     "cell_type": "code",
     "collapsed": false,
     "input": [
      "#don't forget to change the job_id ...\n",
      "st = %hd_job_status job_1416874839254_0202\n",
      "st[\"id\"],st[\"percentComplete\"],st[\"status\"][\"jobComplete\"]"
     ],
     "language": "python",
     "metadata": {},
     "outputs": []
    },
    {
     "cell_type": "markdown",
     "metadata": {},
     "source": [
      "On s\u00e9pare la base entre train et test :"
     ]
    },
    {
     "cell_type": "code",
     "collapsed": false,
     "input": [
      "%%PIG createTrainTest.pig\n",
      "allData = LOAD '$CONTAINER/$PSEUDO/DonnotLaugel/allNetflixData.csv' USING PigStorage(',') AS (movie:int,user:int,rating:int,date:chararray );\n",
      "values_train = FILTER allData BY date <= datetime(\"2009-06-30\") ;\n",
      "values_test = FILTER allData BY date > datetime(\"2009-06-30\") ;\n",
      "STORE values_train INTO '$CONTAINER/$PSEUDO/DonnotLaugel/NetflixData_Train-2009-06-30.csv' USING PigStorage(',') ;\n",
      "STORE values_test INTO '$CONTAINER/$PSEUDO/DonnotLaugel/NetflixData_Test-2009-06-30.csv' USING PigStorage(',') ;"
     ],
     "language": "python",
     "metadata": {},
     "outputs": [],
     "prompt_number": 6
    },
    {
     "cell_type": "code",
     "collapsed": false,
     "input": [
      "%%PIG createTrainTest.pig\n",
      "values = LOAD '$CONTAINER/$PSEUDO/DonnotLaugel/allNetflixData.csv' USING PigStorage(',') AS (movie:int user:int rating:int date:datetime);\n",
      "values_Train = FILTER values BY date <= datetime($dateMin) ;\n",
      "values_Test = FILTER values BY date > datetime($dateMin) ;\n",
      "STORE values_Train INTO '$CONTAINER/$PSEUDO/DonnotLaugel/NetflixData_Train-$dateMin.csv' USING PigStorage(',') ;\n",
      "STORE values_Test INTO '$CONTAINER/$PSEUDO/DonnotLaugel/NetflixData_Test-$dateMin.csv' USING PigStorage(',') ;"
     ],
     "language": "python",
     "metadata": {},
     "outputs": [],
     "prompt_number": 7
    },
    {
     "cell_type": "markdown",
     "metadata": {},
     "source": [
      "On envoie le job :"
     ]
    },
    {
     "cell_type": "code",
     "collapsed": false,
     "input": [
      "paramsPig = {\"dateMin\":\"2009-06-30\"}\n",
      "client.pig_submit(bs, client.account_name, \"createTrainTest.pig\",params = paramsPig )\n",
      "#client.pig_submit(bs, client.account_name, \"createTrainTest.pig\")"
     ],
     "language": "python",
     "metadata": {},
     "outputs": [
      {
       "ename": "AzureException",
       "evalue": "STATUS: 403, JSON: Expecting value: line 1 column 1 (char 0)\n<Response [403]>\nunable to submit job: createTrainTest.pig",
       "output_type": "pyerr",
       "traceback": [
        "\u001b[1;31m---------------------------------------------------------------------------\u001b[0m\n\u001b[1;31mAzureException\u001b[0m                            Traceback (most recent call last)",
        "\u001b[1;32m<ipython-input-8-b0f528740ca2>\u001b[0m in \u001b[0;36m<module>\u001b[1;34m()\u001b[0m\n\u001b[0;32m      1\u001b[0m \u001b[0mparamsPig\u001b[0m \u001b[1;33m=\u001b[0m \u001b[1;33m{\u001b[0m\u001b[1;34m\"dateMin\"\u001b[0m\u001b[1;33m:\u001b[0m\u001b[1;34m\"2009-06-30\"\u001b[0m\u001b[1;33m}\u001b[0m\u001b[1;33m\u001b[0m\u001b[0m\n\u001b[1;32m----> 2\u001b[1;33m \u001b[0mclient\u001b[0m\u001b[1;33m.\u001b[0m\u001b[0mpig_submit\u001b[0m\u001b[1;33m(\u001b[0m\u001b[0mbs\u001b[0m\u001b[1;33m,\u001b[0m \u001b[0mclient\u001b[0m\u001b[1;33m.\u001b[0m\u001b[0maccount_name\u001b[0m\u001b[1;33m,\u001b[0m \u001b[1;34m\"createTrainTest.pig\"\u001b[0m\u001b[1;33m,\u001b[0m\u001b[0mparams\u001b[0m \u001b[1;33m=\u001b[0m \u001b[0mparamsPig\u001b[0m \u001b[1;33m)\u001b[0m\u001b[1;33m\u001b[0m\u001b[0m\n\u001b[0m\u001b[0;32m      3\u001b[0m \u001b[1;31m#client.pig_submit(bs, client.account_name, \"createTrainTest.pig\")\u001b[0m\u001b[1;33m\u001b[0m\u001b[1;33m\u001b[0m\u001b[0m\n",
        "\u001b[1;32m/usr/local/lib/python3.4/dist-packages/pyensae/remote/azure_connection.py\u001b[0m in \u001b[0;36mpig_submit\u001b[1;34m(self, blob_service, container_name, pig_file, dependencies, status_dir, stop_on_failure, params)\u001b[0m\n\u001b[0;32m    637\u001b[0m \u001b[1;33m\u001b[0m\u001b[0m\n\u001b[0;32m    638\u001b[0m         \u001b[1;32mif\u001b[0m \u001b[0mr\u001b[0m\u001b[1;33m.\u001b[0m\u001b[0mstatus_code\u001b[0m \u001b[1;33m!=\u001b[0m \u001b[1;36m200\u001b[0m\u001b[1;33m:\u001b[0m\u001b[1;33m\u001b[0m\u001b[0m\n\u001b[1;32m--> 639\u001b[1;33m             \u001b[1;32mraise\u001b[0m \u001b[0mAzureException\u001b[0m\u001b[1;33m(\u001b[0m\u001b[1;34m\"unable to submit job: \"\u001b[0m \u001b[1;33m+\u001b[0m \u001b[0mpig_file\u001b[0m\u001b[1;33m,\u001b[0m \u001b[0mr\u001b[0m\u001b[1;33m)\u001b[0m\u001b[1;33m\u001b[0m\u001b[0m\n\u001b[0m\u001b[0;32m    640\u001b[0m         \u001b[1;32mreturn\u001b[0m \u001b[0mr\u001b[0m\u001b[1;33m.\u001b[0m\u001b[0mjson\u001b[0m\u001b[1;33m(\u001b[0m\u001b[1;33m)\u001b[0m\u001b[1;33m\u001b[0m\u001b[0m\n\u001b[0;32m    641\u001b[0m \u001b[1;33m\u001b[0m\u001b[0m\n",
        "\u001b[1;31mAzureException\u001b[0m: STATUS: 403, JSON: Expecting value: line 1 column 1 (char 0)\n<Response [403]>\nunable to submit job: createTrainTest.pig"
       ]
      }
     ],
     "prompt_number": 8
    },
    {
     "cell_type": "markdown",
     "metadata": {},
     "source": [
      "On v\u00e9rifie que le job s'ex\u00e9cute normalement :"
     ]
    },
    {
     "cell_type": "code",
     "collapsed": false,
     "input": [
      "#don't forget to change the job_id ...\n",
      "st = %hd_job_status job_1416874839254_0202\n",
      "st[\"id\"],st[\"percentComplete\"],st[\"status\"][\"jobComplete\"]"
     ],
     "language": "python",
     "metadata": {},
     "outputs": []
    },
    {
     "cell_type": "markdown",
     "metadata": {},
     "source": [
      "On ferme la connexion"
     ]
    },
    {
     "cell_type": "code",
     "collapsed": false,
     "input": [
      "%blob_close"
     ],
     "language": "python",
     "metadata": {},
     "outputs": [
      {
       "metadata": {},
       "output_type": "pyout",
       "prompt_number": 21,
       "text": [
        "True"
       ]
      }
     ],
     "prompt_number": 21
    }
   ],
   "metadata": {}
  }
 ]
}
