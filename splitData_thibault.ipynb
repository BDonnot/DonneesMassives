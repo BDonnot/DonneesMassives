{
 "metadata": {
  "name": "",
  "signature": "sha256:65eb628ff2db7179e0499065790d2c3edf3311ea4e85da5eb2517994e67c2365"
 },
 "nbformat": 3,
 "nbformat_minor": 0,
 "worksheets": [
  {
   "cells": [
    {
     "cell_type": "heading",
     "level": 1,
     "metadata": {},
     "source": [
      "On divise le data set entre train et test"
     ]
    },
    {
     "cell_type": "markdown",
     "metadata": {},
     "source": [
      "On charge les libraries voulues :"
     ]
    },
    {
     "cell_type": "code",
     "collapsed": false,
     "input": [
      "import pyensae\n",
      "import pyquickhelper\n",
      "import pandas, sqlite3, os\n",
      "path = \"data/\"\n",
      "pathTrain = path+\"training_set/\"\n",
      "#pathWD = \"\\\\\\\\paradis\\\\eleves\\\\BDonnot\\\\Bureau\\\\DonneesMassives\\\\\"\n",
      "#pathWD = \"C:\\\\Users\\\\Thibault\\\\Desktop\\\\ENSAE\\\\Cours3A\\\\DonneesMassives\\\\DonneesMassives\\\\\"\n",
      "#pathWD = \"~/Documents/DonneesMassives/\"\n",
      "pathWD = \"c:/Users/benji/Documents/ENSAE/3A/DonneesMassives/\"\n",
      "os.chdir(pathWD)"
     ],
     "language": "python",
     "metadata": {},
     "outputs": [],
     "prompt_number": 7
    },
    {
     "cell_type": "markdown",
     "metadata": {},
     "source": [
      "On se connecte au serveur"
     ]
    },
    {
     "cell_type": "code",
     "collapsed": false,
     "input": [
      "params={\"blob_storage\":\"hdblobstorage\", \"password1\":\"\", \"hadoop_server\":\"clusterensaeazure2\", \"password2\":\"\", \"username\":\"DonnotLaugel\"}\n",
      "with open(\"password\",\"r\") as fPassWord :\n",
      "    for line in fPassWord :\n",
      "        li = line.split(\":\")\n",
      "        if li[0] == params[\"blob_storage\"] :\n",
      "            params[\"password1\"] = li[1].replace('\\n','').replace('\\r','')\n",
      "        elif li[0] == params[\"hadoop_server\"] :\n",
      "            params[\"password2\"] = li[1].replace('\\n','').replace('\\r','')\n",
      "pyquickhelper.open_html_form(params=params,title=\"server + hadoop + credentials\", key_save=\"blobhp\")\n"
     ],
     "language": "python",
     "metadata": {},
     "outputs": [
      {
       "html": [
        "<div style=\"background-color:gainsboro; padding:2px; border:0px;\"><b>server + hadoop + credentials</b>\n",
        "<br />blob_storage <input type=\"text\" id=\"blobhpblob_storage\" value=\"hdblobstorage\" size=\"80\" />\n",
        "<br />hadoop_server <input type=\"text\" id=\"blobhphadoop_server\" value=\"clusterensaeazure2\" size=\"80\" />\n",
        "<br />password1 <input type=\"password\" id=\"blobhppassword1\" value=\"jQIPVO/T54w8X49UPIbzAVvaNO3wmuUwI4/o9AJnCaPTHoCQnsaGBUkT4eIyi0BRQavgc/TAQMQwy8eu19CSBQ==\" size=\"80\" />\n",
        "<br />password2 <input type=\"password\" id=\"blobhppassword2\" value=\"3azureENSAE;\" size=\"80\" />\n",
        "<br />username <input type=\"text\" id=\"blobhpusername\" value=\"DonnotLaugel\" size=\"80\" />\n",
        "<br /><button onclick=\"set_valueblobhp()\">Ok</button></div>\n",
        "<script type=\"text/Javascript\">\n",
        "function blobhpcallback(msg) {\n",
        "   var ret = msg.content.data['text/plain'];\n",
        "   $('#outblobhp').text(ret);\n",
        "}\n",
        "function set_valueblobhp(){\n",
        "   command='blobhp = {' ;\n",
        "   var blobhpblob_storagevar_value = document.getElementById('blobhpblob_storage').value;\n",
        "   command += '\"blob_storage\":\"' + blobhpblob_storagevar_value + '\",';\n",
        "   var blobhphadoop_servervar_value = document.getElementById('blobhphadoop_server').value;\n",
        "   command += '\"hadoop_server\":\"' + blobhphadoop_servervar_value + '\",';\n",
        "   var blobhppassword1var_value = document.getElementById('blobhppassword1').value;\n",
        "   command += '\"password1\":\"' + blobhppassword1var_value + '\",';\n",
        "   var blobhppassword2var_value = document.getElementById('blobhppassword2').value;\n",
        "   command += '\"password2\":\"' + blobhppassword2var_value + '\",';\n",
        "   var blobhpusernamevar_value = document.getElementById('blobhpusername').value;\n",
        "   command += '\"username\":\"' + blobhpusernamevar_value + '\",';\n",
        "   command += '}';\n",
        "   var kernel = IPython.notebook.kernel;\n",
        "   kernel.execute(command);\n",
        "}\n",
        "</script>"
       ],
       "metadata": {},
       "output_type": "pyout",
       "prompt_number": 9,
       "text": [
        "<IPython.core.display.HTML at 0x89887b8>"
       ]
      }
     ],
     "prompt_number": 9
    },
    {
     "cell_type": "code",
     "collapsed": false,
     "input": [
      "blobstorage = blobhp[\"blob_storage\"]\n",
      "blobpassword = blobhp[\"password1\"]\n",
      "hadoop_server = blobhp[\"hadoop_server\"]\n",
      "hadoop_password = blobhp[\"password2\"]\n",
      "username = blobhp[\"username\"]\n",
      "client, bs =  %hd_open\n",
      "client, bs"
     ],
     "language": "python",
     "metadata": {},
     "outputs": [
      {
       "metadata": {},
       "output_type": "pyout",
       "prompt_number": 10,
       "text": [
        "(<pyensae.remote.azure_connection.AzureClient at 0x897be48>,\n",
        " <azure.storage.blobservice.BlobService at 0x897bd30>)"
       ]
      }
     ],
     "prompt_number": 10
    },
    {
     "cell_type": "markdown",
     "metadata": {},
     "source": [
      "On v\u00e9rifie que les pr\u00e9c\u00e9dents fichiers sont bien l\u00e0"
     ]
    },
    {
     "cell_type": "code",
     "collapsed": false,
     "input": [
      "l = %blob_containers\n",
      "l\n",
      "%blob_ls /$PSEUDO/DonnotLaugel/NetflixData_Effects-20050531.csv"
     ],
     "language": "python",
     "metadata": {},
     "outputs": [
      {
       "html": [
        "<div style=\"max-height:1000px;max-width:1500px;overflow:auto;\">\n",
        "<table border=\"1\" class=\"dataframe\">\n",
        "  <thead>\n",
        "    <tr style=\"text-align: right;\">\n",
        "      <th></th>\n",
        "      <th>name</th>\n",
        "      <th>last_modified</th>\n",
        "      <th>content_type</th>\n",
        "      <th>content_length</th>\n",
        "      <th>blob_type</th>\n",
        "    </tr>\n",
        "  </thead>\n",
        "  <tbody>\n",
        "    <tr>\n",
        "      <th>0</th>\n",
        "      <td> DonnotLaugel/DonnotLaugel/NetflixData_Effects-...</td>\n",
        "      <td> Fri, 06 Feb 2015 17:27:18 GMT</td>\n",
        "      <td>                         </td>\n",
        "      <td>          0</td>\n",
        "      <td> BlockBlob</td>\n",
        "    </tr>\n",
        "    <tr>\n",
        "      <th>1</th>\n",
        "      <td> DonnotLaugel/DonnotLaugel/NetflixData_Effects-...</td>\n",
        "      <td> Fri, 06 Feb 2015 17:27:18 GMT</td>\n",
        "      <td> application/octet-stream</td>\n",
        "      <td>          0</td>\n",
        "      <td> BlockBlob</td>\n",
        "    </tr>\n",
        "    <tr>\n",
        "      <th>2</th>\n",
        "      <td> DonnotLaugel/DonnotLaugel/NetflixData_Effects-...</td>\n",
        "      <td> Fri, 06 Feb 2015 17:27:17 GMT</td>\n",
        "      <td> application/octet-stream</td>\n",
        "      <td> 2192930515</td>\n",
        "      <td> BlockBlob</td>\n",
        "    </tr>\n",
        "  </tbody>\n",
        "</table>\n",
        "</div>"
       ],
       "metadata": {},
       "output_type": "pyout",
       "prompt_number": 14,
       "text": [
        "                                                name  \\\n",
        "0  DonnotLaugel/DonnotLaugel/NetflixData_Effects-...   \n",
        "1  DonnotLaugel/DonnotLaugel/NetflixData_Effects-...   \n",
        "2  DonnotLaugel/DonnotLaugel/NetflixData_Effects-...   \n",
        "\n",
        "                   last_modified              content_type  content_length  \\\n",
        "0  Fri, 06 Feb 2015 17:27:18 GMT                                         0   \n",
        "1  Fri, 06 Feb 2015 17:27:18 GMT  application/octet-stream               0   \n",
        "2  Fri, 06 Feb 2015 17:27:17 GMT  application/octet-stream      2192930515   \n",
        "\n",
        "   blob_type  \n",
        "0  BlockBlob  \n",
        "1  BlockBlob  \n",
        "2  BlockBlob  "
       ]
      }
     ],
     "prompt_number": 14
    },
    {
     "cell_type": "markdown",
     "metadata": {},
     "source": [
      "On calcule les  effets \"films\" et \"utilisateurs\" sur une petite base (test du script) :"
     ]
    },
    {
     "cell_type": "code",
     "collapsed": false,
     "input": [
      "%%PIG compute_effects_small.pig\n",
      "\n",
      "allData = LOAD '$CONTAINER/$PSEUDO/DonnotLaugel/smallExtract.csv' USING PigStorage(',') AS (movie:int,user:int,rating:int,date:chararray ) ;\n",
      "--smallExtract, smallEffects\n",
      "--allNetflixDataClean, allEffects\n",
      "\n",
      "moviegroup = GROUP allData BY movie ;\n",
      "movie_effects = FOREACH moviegroup GENERATE group AS movieid, SUM(allData.rating)/(float)COUNT(allData.rating) AS avg_movie_rating ;\n",
      "table = JOIN allData BY movie, movie_effects BY movieid ;\n",
      "\n",
      "usergroup = GROUP table BY user ;\n",
      "user_effects = FOREACH usergroup GENERATE group AS userid, (SUM(table.rating) - SUM(table.avg_movie_rating)) AS rbar_user ;\n",
      "table2 = JOIN table BY user, user_effects by userid ;\n",
      "\n",
      "tablefinal = FOREACH table2 GENERATE movie, user, (rating - rbar_user) as centered_rating ;\n",
      "\n",
      "tablefinal = ORDER tablefinal BY user ;\n",
      "\n",
      "DUMP tablefinal ; \n",
      "\n",
      "STORE tablefinal INTO '$CONTAINER/$PSEUDO/DonnotLaugel/smallEffects.csv' USING PigStorage(',') ;"
     ],
     "language": "python",
     "metadata": {},
     "outputs": [],
     "prompt_number": 15
    },
    {
     "cell_type": "markdown",
     "metadata": {},
     "source": [
      "On calcule les effets \"films\" et \"utilisateurs\" sur la vraie base :"
     ]
    },
    {
     "cell_type": "code",
     "collapsed": false,
     "input": [
      "%%PIG compute_effects.pig\n",
      "\n",
      "allData = LOAD '$CONTAINER/$PSEUDO/DonnotLaugel/NetflixData_Train-$dateMin.csv' USING PigStorage(',') AS (movie:int,user:int,rating:int,date:chararray ) ;\n",
      "--smallExtract, smallEffects\n",
      "--allNetflixDataClean, allEffects\n",
      "\n",
      "moviegroup = GROUP allData BY movie ;\n",
      "movie_effects = FOREACH moviegroup GENERATE group AS movieid, SUM(allData.rating)/(float)COUNT(allData.rating) AS avg_movie_rating ;\n",
      "table = JOIN allData BY movie, movie_effects BY movieid ;\n",
      "\n",
      "usergroup = GROUP table BY user ;\n",
      "user_effects = FOREACH usergroup GENERATE group AS userid, (SUM(table.rating) - SUM(table.avg_movie_rating)) AS rbar_user ;\n",
      "table2 = JOIN table BY user, user_effects by userid ;\n",
      "\n",
      "tablefinal = FOREACH table2 GENERATE movie, user, (rating - rbar_user) as centered_rating ;\n",
      "\n",
      "tablefinal = ORDER tablefinal BY user ;\n",
      "\n",
      "STORE tablefinal INTO '$CONTAINER/$PSEUDO/DonnotLaugel/NetflixData_Effects-$dateMin.csv' USING PigStorage(',') ;"
     ],
     "language": "python",
     "metadata": {},
     "outputs": [],
     "prompt_number": 75
    },
    {
     "cell_type": "code",
     "collapsed": false,
     "input": [
      "#if client.exists(bs,client.account_name,\"$PSEUDO/DonnotLaugel/smallEffects.csv\") :\n",
      "        #r = client.delete_folder(bs,client.account_name,\"$PSEUDO/DonnotLaugel/smallEffects.csv\")\n",
      "dateMin = \"20050531\"\n",
      "client.pig_submit(bs, client.account_name, 'compute_effects.pig',params = dict(dateMin = dateMin))\n",
      "#%hd_pig_submit convertDate.pig -stop_on_failure"
     ],
     "language": "python",
     "metadata": {},
     "outputs": [
      {
       "metadata": {},
       "output_type": "pyout",
       "prompt_number": 7,
       "text": [
        "{'id': 'job_1422615021176_1867'}"
       ]
      }
     ],
     "prompt_number": 7
    },
    {
     "cell_type": "code",
     "collapsed": false,
     "input": [
      "#don't forget to change the job_id ...\n",
      "st = %hd_job_status job_1422615021176_1867\n",
      "st[\"id\"],st[\"percentComplete\"],st[\"status\"][\"jobComplete\"]"
     ],
     "language": "python",
     "metadata": {},
     "outputs": [
      {
       "metadata": {},
       "output_type": "pyout",
       "prompt_number": 77,
       "text": [
        "('job_1422615021176_1867', '100% complete', True)"
       ]
      }
     ],
     "prompt_number": 77
    },
    {
     "cell_type": "code",
     "collapsed": false,
     "input": [
      "%tail_stderr job_1422615021176_1867 50"
     ],
     "language": "python",
     "metadata": {},
     "outputs": []
    },
    {
     "cell_type": "markdown",
     "metadata": {},
     "source": [
      "On cr\u00e9\u00e9 un script pour calculer des recommandations sur la petite base :"
     ]
    },
    {
     "cell_type": "code",
     "collapsed": false,
     "input": [
      "%%PIG compute_reco_small.pig\n",
      "\n",
      "allData = LOAD '$CONTAINER/$PSEUDO/DonnotLaugel/smallEffects.csv' USING PigStorage(',') AS (movie:int,user:int,centered_rating:float) ;\n",
      "\n",
      "\n",
      "data_clean = FOREACH allData GENERATE movie, user, centered_rating ;\n",
      "data_clean2 = FOREACH allData GENERATE movie as movie2, user as user2, centered_rating as centered_rating2 ; \n",
      "pairs = JOIN data_clean BY user, data_clean2 BY user2 ; \n",
      "\n",
      "pairs = FOREACH pairs GENERATE movie, user, centered_rating, movie2, user2, centered_rating2 ;\n",
      "\n",
      "pairs_unique = FILTER pairs by movie < movie2 ;\n",
      "\n",
      "coratings1 = FOREACH pairs_unique GENERATE user, movie, movie2, centered_rating, centered_rating2, (centered_rating * centered_rating) AS ratingSq, (centered_rating2 * centered_rating2) AS rating2Sq, (centered_rating * centered_rating2) AS dotProduct ; \n",
      "    \n",
      "aggregate_pairs = GROUP coratings1 BY (movie, movie2) ;\n",
      "coratings2 = FOREACH aggregate_pairs GENERATE group, COUNT(coratings1.movie) AS num, SUM(coratings1.centered_rating) AS ratingSum, SUM(coratings1.centered_rating2) AS rating2Sum, SUM(coratings1.ratingSq) AS ratingSqSum, SUM(coratings1.rating2Sq) AS rating2SqSum, SUM(coratings1.dotProduct) AS dotProductSum ;\n",
      " \n",
      "\n",
      "-- filter enough obs for each pair:\n",
      "coratings2 = FILTER coratings2 BY num >= 2;\n",
      "\n",
      "recommendations = FOREACH coratings2 GENERATE group.movie, group.movie2, (double)(num * dotProductSum - ratingSum * rating2Sum) / ( SQRT((double)(num * ratingSqSum - ratingSum * ratingSum)) * SQRT((double)(num * rating2SqSum - rating2Sum * rating2Sum)) ) AS correlation ;\n",
      "\n",
      "ordered = ORDER recommendations BY movie, correlation DESC ; \n",
      "\n",
      "\n",
      "DUMP ordered ; \n",
      "\n",
      "STORE ordered INTO '$CONTAINER/$PSEUDO/DonnotLaugel/smallReco.csv' USING PigStorage(',') ;"
     ],
     "language": "python",
     "metadata": {},
     "outputs": [],
     "prompt_number": 5
    },
    {
     "cell_type": "markdown",
     "metadata": {},
     "source": [
      "On adapte ce script pour calculer les recommandations sur la base totale :"
     ]
    },
    {
     "cell_type": "code",
     "collapsed": false,
     "input": [
      "%%PIG compute_reco.pig\n",
      "\n",
      "allData = LOAD '$CONTAINER/$PSEUDO/DonnotLaugel/NetflixData_Effects-$dateMin.csv' USING PigStorage(',') AS (movie:int,user:int,centered_rating:float) ;\n",
      "\n",
      "\n",
      "data_clean = FOREACH allData GENERATE movie, user, centered_rating ;\n",
      "data_clean2 = FOREACH allData GENERATE movie as movie2, user as user2, centered_rating as centered_rating2 ; \n",
      "pairs = JOIN data_clean BY user, data_clean2 BY user2 ; \n",
      "\n",
      "pairs = FOREACH pairs GENERATE movie, user, centered_rating, movie2, user2, centered_rating2 ;\n",
      "\n",
      "pairs_unique = FILTER pairs by movie < movie2 ;\n",
      "\n",
      "coratings1 = FOREACH pairs_unique GENERATE user, movie, movie2, centered_rating, centered_rating2, (centered_rating * centered_rating) AS ratingSq, (centered_rating2 * centered_rating2) AS rating2Sq, (centered_rating * centered_rating2) AS dotProduct ; \n",
      "    \n",
      "aggregate_pairs = GROUP coratings1 BY (movie, movie2) ;\n",
      "coratings2 = FOREACH aggregate_pairs GENERATE group, COUNT(coratings1.movie) AS num, SUM(coratings1.centered_rating) AS ratingSum, SUM(coratings1.centered_rating2) AS rating2Sum, SUM(coratings1.ratingSq) AS ratingSqSum, SUM(coratings1.rating2Sq) AS rating2SqSum, SUM(coratings1.dotProduct) AS dotProductSum ;\n",
      "\n",
      "coratings2 = FILTER coratings2 BY num >= 10;\n",
      "\n",
      "recommendations = FOREACH coratings2 GENERATE group.movie, group.movie2, (double)(num * dotProductSum - ratingSum * rating2Sum) / ( SQRT((double)(num * ratingSqSum - ratingSum * ratingSum)) * SQRT((double)(num * rating2SqSum - rating2Sum * rating2Sum)) ) AS correlation ;\n",
      "\n",
      "ordered = ORDER recommendations BY movie, correlation DESC ; \n",
      "\n",
      "\n",
      "STORE ordered INTO '$CONTAINER/$PSEUDO/DonnotLaugel/NetflixData_Reco-$dateMin.csv' USING PigStorage(',') ;"
     ],
     "language": "python",
     "metadata": {},
     "outputs": [],
     "prompt_number": 29
    },
    {
     "cell_type": "code",
     "collapsed": false,
     "input": [
      "#if client.exists(bs,client.account_name,\"$PSEUDO/DonnotLaugel/smallReco.csv\") :\n",
      "#        r = client.delete_folder(bs,client.account_name,\"$PSEUDO/DonnotLaugel/smallReco.csv\")\n",
      "dateMin = \"20050531\"\n",
      "if client.exists(bs,client.account_name,\"$PSEUDO/DonnotLaugel/NetflixData_Reco-%s.csv\" % dateMin) :\n",
      "        r = client.delete_folder(bs,client.account_name,\"$PSEUDO/DonnotLaugel/NetflixData_Reco-%s.csv\" % dateMin)\n",
      "client.pig_submit(bs, client.account_name, 'compute_reco.pig',params = dict(dateMin = dateMin))\n",
      "#%hd_pig_submit convertDate.pig -stop_on_failure"
     ],
     "language": "python",
     "metadata": {},
     "outputs": [
      {
       "metadata": {},
       "output_type": "pyout",
       "prompt_number": 30,
       "text": [
        "{'id': 'job_1422615021176_2290'}"
       ]
      }
     ],
     "prompt_number": 30
    },
    {
     "cell_type": "code",
     "collapsed": false,
     "input": [
      "#don't forget to change the job_id ...\n",
      "st = %hd_job_status job_1422615021176_2290\n",
      "st[\"id\"],st[\"percentComplete\"],st[\"status\"][\"jobComplete\"]"
     ],
     "language": "python",
     "metadata": {},
     "outputs": [
      {
       "metadata": {},
       "output_type": "pyout",
       "prompt_number": 36,
       "text": [
        "('job_1422615021176_2290', '20% complete', False)"
       ]
      }
     ],
     "prompt_number": 36
    },
    {
     "cell_type": "code",
     "collapsed": false,
     "input": [
      "%tail_stderr job_1422615021176_2288 50"
     ],
     "language": "python",
     "metadata": {},
     "outputs": [
      {
       "html": [
        "<pre>\n",
        "\n",
        "</pre><br />"
       ],
       "metadata": {},
       "output_type": "pyout",
       "prompt_number": 28,
       "text": [
        "<IPython.core.display.HTML at 0x5484eb8>"
       ]
      }
     ],
     "prompt_number": 28
    },
    {
     "cell_type": "code",
     "collapsed": false,
     "input": [
      "client.job_kill(\"job_1422615021176_2288\")"
     ],
     "language": "python",
     "metadata": {},
     "outputs": [
      {
       "metadata": {},
       "output_type": "pyout",
       "prompt_number": 27,
       "text": [
        "{'completed': None,\n",
        " 'msg': None,\n",
        " 'percentComplete': '20% complete',\n",
        " 'user': 'hdp',\n",
        " 'exitValue': None,\n",
        " 'userargs': {'statusdir': 'wasb://hdblobstorage@hdblobstorage.blob.core.windows.net/DonnotLaugel/scripts/pig/compute_reco.pig.log',\n",
        "  'files': None,\n",
        "  'file': 'wasb://hdblobstorage@hdblobstorage.blob.core.windows.net/DonnotLaugel/scripts/pig/compute_reco.pig',\n",
        "  'callback': None,\n",
        "  'enablelog': 'false',\n",
        "  'arg': ['-v',\n",
        "   '-param',\n",
        "   'CONTAINER=wasb://hdblobstorage@hdblobstorage.blob.core.windows.net/',\n",
        "   '-param',\n",
        "   'PSEUDO=DonnotLaugel',\n",
        "   '-param',\n",
        "   'SCRIPTPIG=DonnotLaugel/scripts/pig',\n",
        "   '-param',\n",
        "   'dateMin=20050531',\n",
        "   '-stop_on_failure'],\n",
        "  'execute': None,\n",
        "  'user.name': 'admin'},\n",
        " 'profile': {'queueName': 'default',\n",
        "  'jobName': 'TempletonControllerJob',\n",
        "  'jobFile': 'wasb://clusterensaeazure2-1@hdblobstorage.blob.core.windows.net/user/admin/.staging/job_1422615021176_2288/job.xml',\n",
        "  'user': 'hdp',\n",
        "  'jobID': {'jtIdentifier': '1422615021176', 'id': 2288},\n",
        "  'jobId': 'job_1422615021176_2288',\n",
        "  'url': 'http://headnodehost:9014/proxy/application_1422615021176_2288/'},\n",
        " 'status': {'username': 'hdp',\n",
        "  'schedulingInfo': 'NA',\n",
        "  'jobFile': 'wasb://clusterensaeazure2-1@hdblobstorage.blob.core.windows.net/user/admin/.staging/job_1422615021176_2288/job.xml',\n",
        "  'retired': False,\n",
        "  'state': 'KILLED',\n",
        "  'priority': 'NORMAL',\n",
        "  'mapProgress': 1.0,\n",
        "  'reservedMem': 0,\n",
        "  'uber': False,\n",
        "  'queue': 'default',\n",
        "  'cleanupProgress': 1.0,\n",
        "  'historyFile': '',\n",
        "  'runState': 5,\n",
        "  'jobPriority': 'NORMAL',\n",
        "  'numUsedSlots': 0,\n",
        "  'trackingUrl': 'http://headnodehost:9014/proxy/application_1422615021176_2288/',\n",
        "  'reduceProgress': 0.0,\n",
        "  'startTime': 1423301678961,\n",
        "  'numReservedSlots': 0,\n",
        "  'failureInfo': 'NA',\n",
        "  'jobACLs': {},\n",
        "  'neededMem': 0,\n",
        "  'setupProgress': 1.0,\n",
        "  'finishTime': 1423302090019,\n",
        "  'jobID': {'jtIdentifier': '1422615021176', 'id': 2288},\n",
        "  'jobComplete': True,\n",
        "  'usedMem': 0,\n",
        "  'jobName': 'TempletonControllerJob',\n",
        "  'jobId': 'job_1422615021176_2288'},\n",
        " 'parentId': None,\n",
        " 'callback': None,\n",
        " 'id': 'job_1422615021176_2288'}"
       ]
      }
     ],
     "prompt_number": 27
    },
    {
     "cell_type": "code",
     "collapsed": false,
     "input": [],
     "language": "python",
     "metadata": {},
     "outputs": []
    },
    {
     "cell_type": "code",
     "collapsed": false,
     "input": [],
     "language": "python",
     "metadata": {},
     "outputs": []
    },
    {
     "cell_type": "markdown",
     "metadata": {},
     "source": [
      "On ferme la connexion"
     ]
    },
    {
     "cell_type": "code",
     "collapsed": false,
     "input": [
      "%blob_close"
     ],
     "language": "python",
     "metadata": {},
     "outputs": [
      {
       "metadata": {},
       "output_type": "pyout",
       "prompt_number": 186,
       "text": [
        "True"
       ]
      }
     ],
     "prompt_number": 186
    }
   ],
   "metadata": {}
  }
 ]
}